{
 "cells": [
  {
   "cell_type": "code",
   "execution_count": 1,
   "id": "0ed6cc23",
   "metadata": {
    "execution": {
     "iopub.execute_input": "2025-04-27T15:25:25.278302Z",
     "iopub.status.busy": "2025-04-27T15:25:25.278004Z",
     "iopub.status.idle": "2025-04-27T15:25:25.831841Z",
     "shell.execute_reply": "2025-04-27T15:25:25.831620Z"
    }
   },
   "outputs": [
    {
     "data": {
      "text/plain": [
       "True"
      ]
     },
     "execution_count": 1,
     "metadata": {},
     "output_type": "execute_result"
    }
   ],
   "source": [
    "import boto3\n",
    "import pandas as pd\n",
    "from io import StringIO\n",
    "import os\n",
    "from dotenv import load_dotenv\n",
    "import numpy as np\n",
    "load_dotenv()"
   ]
  },
  {
   "cell_type": "code",
   "execution_count": 2,
   "id": "a69ebbd1",
   "metadata": {
    "execution": {
     "iopub.execute_input": "2025-04-27T15:25:25.833027Z",
     "iopub.status.busy": "2025-04-27T15:25:25.832909Z",
     "iopub.status.idle": "2025-04-27T15:25:27.826681Z",
     "shell.execute_reply": "2025-04-27T15:25:27.826218Z"
    }
   },
   "outputs": [
    {
     "name": "stdout",
     "output_type": "stream",
     "text": [
      "index                         0\n",
      "aqi_index                     0\n",
      "co                            0\n",
      "no                            0\n",
      "no2                           0\n",
      "o3                            0\n",
      "so2                           0\n",
      "pm2_5                         0\n",
      "pm10                          0\n",
      "nh3                           0\n",
      "temperature_2m                0\n",
      "relative_humidity_2m          0\n",
      "precipitation                 0\n",
      "wind_speed_10m                0\n",
      "wind_direction_10m            0\n",
      "surface_pressure              0\n",
      "dew_point_2m                  0\n",
      "apparent_temperature          0\n",
      "shortwave_radiation           0\n",
      "et0_fao_evapotranspiration    0\n",
      "year                          0\n",
      "month                         0\n",
      "day                           0\n",
      "hour                          0\n",
      "dtype: int64\n"
     ]
    }
   ],
   "source": [
    "# Your AWS credentials and bucket info\n",
    "bucket_name = 'my-feature-store-data'\n",
    "s3_key = 'pipeline-data/data.csv'  # Example: \"pipeline-data/data.csv\"\n",
    "\n",
    "# Create an S3 client\n",
    "s3 = boto3.client(\n",
    "    's3',\n",
    "    aws_access_key_id= os.getenv('AWS_ACCESS_KEY_ID'),\n",
    "    aws_secret_access_key=os.getenv('AWS_SECRET_ACCESS_KEY'),\n",
    ")\n",
    "\n",
    "# Fetch the object from S3\n",
    "response = s3.get_object(Bucket=bucket_name, Key=s3_key)\n",
    "\n",
    "# Read the CSV content\n",
    "csv_data = response['Body'].read().decode('utf-8')\n",
    "\n",
    "# Convert to DataFrame\n",
    "df = pd.read_csv(StringIO(csv_data))\n",
    "\n",
    "# Done!\n",
    "print(df.isnull().sum())"
   ]
  },
  {
   "cell_type": "code",
   "execution_count": 3,
   "id": "0cce67d9",
   "metadata": {
    "execution": {
     "iopub.execute_input": "2025-04-27T15:25:27.828893Z",
     "iopub.status.busy": "2025-04-27T15:25:27.828618Z",
     "iopub.status.idle": "2025-04-27T15:25:28.448847Z",
     "shell.execute_reply": "2025-04-27T15:25:28.448528Z"
    }
   },
   "outputs": [],
   "source": [
    "import pandas as pd\n",
    "from sklearn.model_selection import train_test_split\n",
    "\n",
    "\n",
    "# Step 4: Define target and features\n",
    "target = df[\"aqi_index\"]\n",
    "X = df.drop(columns=[\"aqi_index\"])\n",
    "\n",
    "# Step 5: Final check for datetime columns\n",
    "X = X.select_dtypes(exclude=[\"datetime64[ns]\"])\n",
    "\n",
    "# Step 6: Split\n",
    "X_train, X_test, y_train, y_test = train_test_split(X, target, test_size=0.2, random_state=42)\n"
   ]
  },
  {
   "cell_type": "code",
   "execution_count": 4,
   "id": "414706e3",
   "metadata": {
    "execution": {
     "iopub.execute_input": "2025-04-27T15:25:28.450149Z",
     "iopub.status.busy": "2025-04-27T15:25:28.450023Z",
     "iopub.status.idle": "2025-04-27T15:25:28.604877Z",
     "shell.execute_reply": "2025-04-27T15:25:28.604549Z"
    }
   },
   "outputs": [],
   "source": [
    "# Import necessary libraries\n",
    "from sklearn.ensemble import RandomForestRegressor, GradientBoostingRegressor\n",
    "from sklearn.linear_model import LinearRegression, Ridge\n",
    "from sklearn.svm import SVR\n",
    "from sklearn.neural_network import MLPRegressor\n",
    "from sklearn.metrics import mean_squared_error, mean_absolute_error, r2_score\n",
    "from sklearn.model_selection import train_test_split\n",
    "import joblib"
   ]
  },
  {
   "cell_type": "code",
   "execution_count": 5,
   "id": "c81e2291",
   "metadata": {
    "execution": {
     "iopub.execute_input": "2025-04-27T15:25:28.606205Z",
     "iopub.status.busy": "2025-04-27T15:25:28.606086Z",
     "iopub.status.idle": "2025-04-27T15:25:38.615211Z",
     "shell.execute_reply": "2025-04-27T15:25:38.614570Z"
    }
   },
   "outputs": [
    {
     "name": "stderr",
     "output_type": "stream",
     "text": [
      "/Library/Frameworks/Python.framework/Versions/3.11/lib/python3.11/site-packages/sklearn/metrics/_regression.py:492: FutureWarning: 'squared' is deprecated in version 1.4 and will be removed in 1.6. To calculate the root mean squared error, use the function'root_mean_squared_error'.\n",
      "  warnings.warn(\n"
     ]
    },
    {
     "name": "stdout",
     "output_type": "stream",
     "text": [
      "Model: Random_Forest\n",
      "  RMSE: 0.040923085449048845\n",
      "  MAE: 0.005547578472924301\n",
      "  R²: 0.9980067679013092\n",
      "\n"
     ]
    },
    {
     "name": "stderr",
     "output_type": "stream",
     "text": [
      "/Library/Frameworks/Python.framework/Versions/3.11/lib/python3.11/site-packages/sklearn/metrics/_regression.py:492: FutureWarning: 'squared' is deprecated in version 1.4 and will be removed in 1.6. To calculate the root mean squared error, use the function'root_mean_squared_error'.\n",
      "  warnings.warn(\n",
      "/Library/Frameworks/Python.framework/Versions/3.11/lib/python3.11/site-packages/sklearn/metrics/_regression.py:492: FutureWarning: 'squared' is deprecated in version 1.4 and will be removed in 1.6. To calculate the root mean squared error, use the function'root_mean_squared_error'.\n",
      "  warnings.warn(\n",
      "/Library/Frameworks/Python.framework/Versions/3.11/lib/python3.11/site-packages/sklearn/metrics/_regression.py:492: FutureWarning: 'squared' is deprecated in version 1.4 and will be removed in 1.6. To calculate the root mean squared error, use the function'root_mean_squared_error'.\n",
      "  warnings.warn(\n"
     ]
    },
    {
     "name": "stdout",
     "output_type": "stream",
     "text": [
      "Model: Gradient_Boosting\n",
      "  RMSE: 0.04902371832856705\n",
      "  MAE: 0.0162210659871067\n",
      "  R²: 0.9971395548259236\n",
      "\n",
      "Model: Linear_Regression\n",
      "  RMSE: 0.5862036785894914\n",
      "  MAE: 0.4699046158963499\n",
      "  R²: 0.5910048007922956\n",
      "\n",
      "Model: Ridge_Regression\n",
      "  RMSE: 0.5886032175553206\n",
      "  MAE: 0.47329752761990995\n",
      "  R²: 0.5876496238743758\n",
      "\n"
     ]
    },
    {
     "name": "stderr",
     "output_type": "stream",
     "text": [
      "/Library/Frameworks/Python.framework/Versions/3.11/lib/python3.11/site-packages/sklearn/metrics/_regression.py:492: FutureWarning: 'squared' is deprecated in version 1.4 and will be removed in 1.6. To calculate the root mean squared error, use the function'root_mean_squared_error'.\n",
      "  warnings.warn(\n"
     ]
    },
    {
     "name": "stdout",
     "output_type": "stream",
     "text": [
      "Model: Support_Vector_Regressor\n",
      "  RMSE: 0.4243107366342194\n",
      "  MAE: 0.29347555755154797\n",
      "  R²: 0.7857162816936925\n",
      "\n"
     ]
    },
    {
     "name": "stderr",
     "output_type": "stream",
     "text": [
      "/Library/Frameworks/Python.framework/Versions/3.11/lib/python3.11/site-packages/sklearn/metrics/_regression.py:492: FutureWarning: 'squared' is deprecated in version 1.4 and will be removed in 1.6. To calculate the root mean squared error, use the function'root_mean_squared_error'.\n",
      "  warnings.warn(\n"
     ]
    },
    {
     "name": "stdout",
     "output_type": "stream",
     "text": [
      "Model: Neural_Network\n",
      "  RMSE: 2.3819400258312684\n",
      "  MAE: 1.7966987710908204\n",
      "  R²: -5.752782721860919\n",
      "\n",
      "\n",
      " Best model: Random_Forest (RMSE = 0.04)\n"
     ]
    },
    {
     "name": "stdout",
     "output_type": "stream",
     "text": [
      "Model uploaded to s3://my-feature-store-data/models/best_model.pkl\n",
      "\n",
      " Summary of Model Performance:\n",
      "                      Model      RMSE       MAE        R²\n",
      "0             Random_Forest  0.040923  0.005548  0.998007\n",
      "1         Gradient_Boosting  0.049024  0.016221  0.997140\n",
      "2         Linear_Regression  0.586204  0.469905  0.591005\n",
      "3          Ridge_Regression  0.588603  0.473298  0.587650\n",
      "4  Support_Vector_Regressor  0.424311  0.293476  0.785716\n",
      "5            Neural_Network  2.381940  1.796699 -5.752783\n"
     ]
    }
   ],
   "source": [
    "# ✅ Step 3: Define Models\n",
    "models = {\n",
    "    \"Random_Forest\": RandomForestRegressor(n_estimators=300, max_depth=10, random_state=42),\n",
    "    \"Gradient_Boosting\": GradientBoostingRegressor(n_estimators=300, max_depth=3, random_state=42),\n",
    "    \"Linear_Regression\": LinearRegression(),\n",
    "    \"Ridge_Regression\": Ridge(alpha=1.0),\n",
    "    \"Support_Vector_Regressor\": SVR(),\n",
    "    \"Neural_Network\": MLPRegressor(max_iter=200, random_state=42)\n",
    "}\n",
    "\n",
    "# -----------------------\n",
    "# ✅ Step 4: Train and Evaluate\n",
    "results = []\n",
    "best_model = None\n",
    "best_model_name = None\n",
    "best_rmse = float(\"inf\")\n",
    "\n",
    "for model_name, model in models.items():\n",
    "    model.fit(X_train, y_train)\n",
    "    y_pred = model.predict(X_test)\n",
    "\n",
    "    rmse = mean_squared_error(y_test, y_pred, squared=False)\n",
    "    mae = mean_absolute_error(y_test, y_pred)\n",
    "    r2 = r2_score(y_test, y_pred)\n",
    "\n",
    "    results.append({\n",
    "        \"Model\": model_name,\n",
    "        \"RMSE\": rmse,\n",
    "        \"MAE\": mae,\n",
    "        \"R²\": r2\n",
    "    })\n",
    "\n",
    "    if rmse < best_rmse:\n",
    "        best_rmse = rmse\n",
    "        best_model = model\n",
    "        best_model_name = model_name\n",
    "\n",
    "    print(f\"Model: {model_name}\")\n",
    "    print(f\"  RMSE: {rmse}\")\n",
    "    print(f\"  MAE: {mae}\")\n",
    "    print(f\"  R²: {r2}\\n\")\n",
    "\n",
    "# -----------------------\n",
    "#  Step 5: Save Best Model Locally\n",
    "print(f\"\\n Best model: {best_model_name} (RMSE = {best_rmse:.2f})\")\n",
    "joblib.dump(best_model, \"best_model.pkl\")\n",
    "\n",
    "S3_KEY = \"models/best_model.pkl\"  # Example: \"models/best_model.pkl\"\n",
    "\n",
    "# Upload\n",
    "s3.upload_file(\"best_model.pkl\", bucket_name, S3_KEY)\n",
    "print(f\"Model uploaded to s3://{bucket_name}/{S3_KEY}\")\n",
    "\n",
    "# -----------------------\n",
    "# Step 7: Summary\n",
    "results_df = pd.DataFrame(results)\n",
    "print(\"\\n Summary of Model Performance:\")\n",
    "print(results_df)"
   ]
  }
 ],
 "metadata": {
  "kernelspec": {
   "display_name": "Python 3",
   "language": "python",
   "name": "python3"
  },
  "language_info": {
   "codemirror_mode": {
    "name": "ipython",
    "version": 3
   },
   "file_extension": ".py",
   "mimetype": "text/x-python",
   "name": "python",
   "nbconvert_exporter": "python",
   "pygments_lexer": "ipython3",
   "version": "3.11.5"
  }
 },
 "nbformat": 4,
 "nbformat_minor": 5
}
