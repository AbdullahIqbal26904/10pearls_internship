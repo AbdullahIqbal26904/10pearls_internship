{
 "cells": [
  {
   "cell_type": "code",
   "execution_count": 10,
   "id": "0ed6cc23",
   "metadata": {},
   "outputs": [
    {
     "data": {
      "text/plain": [
       "True"
      ]
     },
     "execution_count": 10,
     "metadata": {},
     "output_type": "execute_result"
    }
   ],
   "source": [
    "import boto3\n",
    "import pandas as pd\n",
    "from io import StringIO\n",
    "import os\n",
    "from dotenv import load_dotenv\n",
    "load_dotenv()"
   ]
  },
  {
   "cell_type": "code",
   "execution_count": 11,
   "id": "a69ebbd1",
   "metadata": {},
   "outputs": [
    {
     "name": "stdout",
     "output_type": "stream",
     "text": [
      "index                         0\n",
      "aqi_index                     0\n",
      "co                            0\n",
      "no                            0\n",
      "no2                           0\n",
      "o3                            0\n",
      "so2                           0\n",
      "pm2_5                         0\n",
      "pm10                          0\n",
      "nh3                           0\n",
      "temperature_2m                0\n",
      "relative_humidity_2m          0\n",
      "precipitation                 0\n",
      "wind_speed_10m                0\n",
      "wind_direction_10m            0\n",
      "surface_pressure              0\n",
      "dew_point_2m                  0\n",
      "apparent_temperature          0\n",
      "shortwave_radiation           0\n",
      "et0_fao_evapotranspiration    0\n",
      "year                          0\n",
      "month                         0\n",
      "day                           0\n",
      "hour                          0\n",
      "dtype: int64\n"
     ]
    }
   ],
   "source": [
    "# Your AWS credentials and bucket info\n",
    "bucket_name = 'my-feature-store-data'\n",
    "s3_key = 'pipeline-data/data.csv'  # Example: \"pipeline-data/data.csv\"\n",
    "\n",
    "# Create an S3 client\n",
    "s3 = boto3.client(\n",
    "    's3',\n",
    "    aws_access_key_id= os.getenv('AWS_ACCESS_KEY_ID'),\n",
    "    aws_secret_access_key=os.getenv('AWS_SECRET_ACCESS_KEY'),\n",
    ")\n",
    "\n",
    "# Fetch the object from S3\n",
    "response = s3.get_object(Bucket=bucket_name, Key=s3_key)\n",
    "\n",
    "# Read the CSV content\n",
    "csv_data = response['Body'].read().decode('utf-8')\n",
    "\n",
    "# Convert to DataFrame\n",
    "df = pd.read_csv(StringIO(csv_data))\n",
    "\n",
    "# Done!\n",
    "print(df.isnull().sum())"
   ]
  },
  {
   "cell_type": "code",
   "execution_count": 12,
   "id": "0cce67d9",
   "metadata": {},
   "outputs": [],
   "source": [
    "import pandas as pd\n",
    "from sklearn.model_selection import train_test_split\n",
    "\n",
    "\n",
    "# Step 4: Define target and features\n",
    "target = df[\"aqi_index\"]\n",
    "X = df.drop(columns=[\"aqi_index\"])\n",
    "\n",
    "# Step 5: Final check for datetime columns\n",
    "X = X.select_dtypes(exclude=[\"datetime64[ns]\"])\n",
    "\n",
    "# Step 6: Split\n",
    "X_train, X_test, y_train, y_test = train_test_split(X, target, test_size=0.2, random_state=42)\n"
   ]
  },
  {
   "cell_type": "code",
   "execution_count": 13,
   "id": "414706e3",
   "metadata": {},
   "outputs": [],
   "source": [
    "# Import necessary libraries\n",
    "from sklearn.ensemble import RandomForestRegressor, GradientBoostingRegressor\n",
    "from sklearn.linear_model import LinearRegression, Ridge\n",
    "from sklearn.svm import SVR\n",
    "from sklearn.neural_network import MLPRegressor\n",
    "from sklearn.metrics import mean_squared_error, mean_absolute_error, r2_score\n",
    "from sklearn.model_selection import train_test_split\n",
    "import joblib"
   ]
  },
  {
   "cell_type": "code",
   "execution_count": 14,
   "id": "c81e2291",
   "metadata": {},
   "outputs": [
    {
     "name": "stderr",
     "output_type": "stream",
     "text": [
      "/Library/Frameworks/Python.framework/Versions/3.11/lib/python3.11/site-packages/sklearn/metrics/_regression.py:492: FutureWarning: 'squared' is deprecated in version 1.4 and will be removed in 1.6. To calculate the root mean squared error, use the function'root_mean_squared_error'.\n",
      "  warnings.warn(\n"
     ]
    },
    {
     "name": "stdout",
     "output_type": "stream",
     "text": [
      "Model: Random_Forest\n",
      "  RMSE: 0.041723806218533374\n",
      "  MAE: 0.0055189928907690535\n",
      "  R²: 0.9979469336148679\n",
      "\n"
     ]
    },
    {
     "name": "stderr",
     "output_type": "stream",
     "text": [
      "/Library/Frameworks/Python.framework/Versions/3.11/lib/python3.11/site-packages/sklearn/metrics/_regression.py:492: FutureWarning: 'squared' is deprecated in version 1.4 and will be removed in 1.6. To calculate the root mean squared error, use the function'root_mean_squared_error'.\n",
      "  warnings.warn(\n",
      "/Library/Frameworks/Python.framework/Versions/3.11/lib/python3.11/site-packages/sklearn/metrics/_regression.py:492: FutureWarning: 'squared' is deprecated in version 1.4 and will be removed in 1.6. To calculate the root mean squared error, use the function'root_mean_squared_error'.\n",
      "  warnings.warn(\n",
      "/Library/Frameworks/Python.framework/Versions/3.11/lib/python3.11/site-packages/sklearn/metrics/_regression.py:492: FutureWarning: 'squared' is deprecated in version 1.4 and will be removed in 1.6. To calculate the root mean squared error, use the function'root_mean_squared_error'.\n",
      "  warnings.warn(\n"
     ]
    },
    {
     "name": "stdout",
     "output_type": "stream",
     "text": [
      "Model: Gradient_Boosting\n",
      "  RMSE: 0.041837572780225464\n",
      "  MAE: 0.013599354000272186\n",
      "  R²: 0.9979357223300902\n",
      "\n",
      "Model: Linear_Regression\n",
      "  RMSE: 0.5799242060588519\n",
      "  MAE: 0.4587683690465528\n",
      "  R²: 0.6033772456886413\n",
      "\n",
      "Model: Ridge_Regression\n",
      "  RMSE: 0.5803085045180729\n",
      "  MAE: 0.46275598313398963\n",
      "  R²: 0.6028514114007317\n",
      "\n"
     ]
    },
    {
     "name": "stderr",
     "output_type": "stream",
     "text": [
      "/Library/Frameworks/Python.framework/Versions/3.11/lib/python3.11/site-packages/sklearn/metrics/_regression.py:492: FutureWarning: 'squared' is deprecated in version 1.4 and will be removed in 1.6. To calculate the root mean squared error, use the function'root_mean_squared_error'.\n",
      "  warnings.warn(\n"
     ]
    },
    {
     "name": "stdout",
     "output_type": "stream",
     "text": [
      "Model: Support_Vector_Regressor\n",
      "  RMSE: 0.4222891958527931\n",
      "  MAE: 0.29067855253208236\n",
      "  R²: 0.789692338902556\n",
      "\n"
     ]
    },
    {
     "name": "stderr",
     "output_type": "stream",
     "text": [
      "/Library/Frameworks/Python.framework/Versions/3.11/lib/python3.11/site-packages/sklearn/metrics/_regression.py:492: FutureWarning: 'squared' is deprecated in version 1.4 and will be removed in 1.6. To calculate the root mean squared error, use the function'root_mean_squared_error'.\n",
      "  warnings.warn(\n"
     ]
    },
    {
     "name": "stdout",
     "output_type": "stream",
     "text": [
      "Model: Neural_Network\n",
      "  RMSE: 2.6379126123554837\n",
      "  MAE: 2.0391831233632542\n",
      "  R²: -7.206461976423569\n",
      "\n",
      "\n",
      " Best model: Random_Forest (RMSE = 0.04)\n",
      "Model uploaded to s3://my-feature-store-data/models/best_model.pkl\n",
      "\n",
      " Summary of Model Performance:\n",
      "                      Model      RMSE       MAE        R²\n",
      "0             Random_Forest  0.041724  0.005519  0.997947\n",
      "1         Gradient_Boosting  0.041838  0.013599  0.997936\n",
      "2         Linear_Regression  0.579924  0.458768  0.603377\n",
      "3          Ridge_Regression  0.580309  0.462756  0.602851\n",
      "4  Support_Vector_Regressor  0.422289  0.290679  0.789692\n",
      "5            Neural_Network  2.637913  2.039183 -7.206462\n"
     ]
    }
   ],
   "source": [
    "# ✅ Step 3: Define Models\n",
    "models = {\n",
    "    \"Random_Forest\": RandomForestRegressor(n_estimators=300, max_depth=10, random_state=42),\n",
    "    \"Gradient_Boosting\": GradientBoostingRegressor(n_estimators=300, max_depth=3, random_state=42),\n",
    "    \"Linear_Regression\": LinearRegression(),\n",
    "    \"Ridge_Regression\": Ridge(alpha=1.0),\n",
    "    \"Support_Vector_Regressor\": SVR(),\n",
    "    \"Neural_Network\": MLPRegressor(max_iter=200, random_state=42)\n",
    "}\n",
    "\n",
    "# -----------------------\n",
    "# ✅ Step 4: Train and Evaluate\n",
    "results = []\n",
    "best_model = None\n",
    "best_model_name = None\n",
    "best_rmse = float(\"inf\")\n",
    "\n",
    "for model_name, model in models.items():\n",
    "    model.fit(X_train, y_train)\n",
    "    y_pred = model.predict(X_test)\n",
    "\n",
    "    rmse = mean_squared_error(y_test, y_pred, squared=False)\n",
    "    mae = mean_absolute_error(y_test, y_pred)\n",
    "    r2 = r2_score(y_test, y_pred)\n",
    "\n",
    "    results.append({\n",
    "        \"Model\": model_name,\n",
    "        \"RMSE\": rmse,\n",
    "        \"MAE\": mae,\n",
    "        \"R²\": r2\n",
    "    })\n",
    "\n",
    "    if rmse < best_rmse:\n",
    "        best_rmse = rmse\n",
    "        best_model = model\n",
    "        best_model_name = model_name\n",
    "\n",
    "    print(f\"Model: {model_name}\")\n",
    "    print(f\"  RMSE: {rmse}\")\n",
    "    print(f\"  MAE: {mae}\")\n",
    "    print(f\"  R²: {r2}\\n\")\n",
    "\n",
    "# -----------------------\n",
    "#  Step 5: Save Best Model Locally\n",
    "print(f\"\\n Best model: {best_model_name} (RMSE = {best_rmse:.2f})\")\n",
    "joblib.dump(best_model, \"best_model.pkl\")\n",
    "\n",
    "S3_KEY = \"models/best_model.pkl\"  # Example: \"models/best_model.pkl\"\n",
    "\n",
    "# Upload\n",
    "s3.upload_file(\"best_model.pkl\", bucket_name, S3_KEY)\n",
    "print(f\"Model uploaded to s3://{bucket_name}/{S3_KEY}\")\n",
    "\n",
    "# -----------------------\n",
    "# Step 7: Summary\n",
    "results_df = pd.DataFrame(results)\n",
    "print(\"\\n Summary of Model Performance:\")\n",
    "print(results_df)"
   ]
  },
  {
   "cell_type": "code",
   "execution_count": null,
   "id": "f53ea905",
   "metadata": {},
   "outputs": [],
   "source": []
  }
 ],
 "metadata": {
  "kernelspec": {
   "display_name": "Python 3",
   "language": "python",
   "name": "python3"
  },
  "language_info": {
   "codemirror_mode": {
    "name": "ipython",
    "version": 3
   },
   "file_extension": ".py",
   "mimetype": "text/x-python",
   "name": "python",
   "nbconvert_exporter": "python",
   "pygments_lexer": "ipython3",
   "version": "3.11.5"
  }
 },
 "nbformat": 4,
 "nbformat_minor": 5
}
