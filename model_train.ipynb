{
 "cells": [
  {
   "cell_type": "code",
   "execution_count": null,
   "id": "0ed6cc23",
   "metadata": {},
   "outputs": [],
   "source": [
    "import boto3\n",
    "import pandas as pd\n",
    "from io import StringIO\n",
    "import os\n",
    "from dotenv import load_dotenv\n",
    "load_dotenv()"
   ]
  },
  {
   "cell_type": "code",
   "execution_count": null,
   "id": "a69ebbd1",
   "metadata": {},
   "outputs": [
    {
     "name": "stdout",
     "output_type": "stream",
     "text": [
      "index                         0\n",
      "aqi_index                     0\n",
      "aqi_timestamp                 0\n",
      "co                            0\n",
      "no                            0\n",
      "no2                           0\n",
      "o3                            0\n",
      "so2                           0\n",
      "pm2_5                         0\n",
      "pm10                          0\n",
      "nh3                           0\n",
      "temperature_2m                0\n",
      "relative_humidity_2m          0\n",
      "precipitation                 0\n",
      "wind_speed_10m                0\n",
      "wind_direction_10m            0\n",
      "surface_pressure              0\n",
      "dew_point_2m                  0\n",
      "apparent_temperature          0\n",
      "shortwave_radiation           0\n",
      "et0_fao_evapotranspiration    0\n",
      "dtype: int64\n"
     ]
    }
   ],
   "source": [
    "# Your AWS credentials and bucket info\n",
    "bucket_name = 'my-feature-store-data'\n",
    "s3_key = 'pipeline-data/data.csv'  # Example: \"pipeline-data/data.csv\"\n",
    "\n",
    "# Create an S3 client\n",
    "s3 = boto3.client(\n",
    "    's3',\n",
    "    aws_access_key_id= os.getenv('AWS_ACCESS_KEY_ID'),\n",
    "    aws_secret_access_key=os.getenv('AWS_SECRET_ACCESS_KEY'),\n",
    ")\n",
    "\n",
    "# Fetch the object from S3\n",
    "response = s3.get_object(Bucket=bucket_name, Key=s3_key)\n",
    "\n",
    "# Read the CSV content\n",
    "csv_data = response['Body'].read().decode('utf-8')\n",
    "\n",
    "# Convert to DataFrame\n",
    "df = pd.read_csv(StringIO(csv_data))\n",
    "\n",
    "# Done!\n",
    "print(df.isnull().sum())"
   ]
  },
  {
   "cell_type": "code",
   "execution_count": 3,
   "id": "0cce67d9",
   "metadata": {},
   "outputs": [],
   "source": [
    "import pandas as pd\n",
    "from sklearn.model_selection import train_test_split\n",
    "\n",
    "# Assuming df is already loaded\n",
    "# Step 1: Convert datetime columns\n",
    "df[\"aqi_timestamp\"] = pd.to_datetime(df[\"aqi_timestamp\"], errors=\"coerce\")\n",
    "\n",
    "\n",
    "# Step 2: Extract datetime features\n",
    "df[\"aqi_year\"] = df[\"aqi_timestamp\"].dt.year\n",
    "df[\"aqi_month\"] = df[\"aqi_timestamp\"].dt.month\n",
    "df[\"aqi_day\"] = df[\"aqi_timestamp\"].dt.day\n",
    "df[\"aqi_hour\"] = df[\"aqi_timestamp\"].dt.hour\n",
    "df[\"aqi_minute\"] = df[\"aqi_timestamp\"].dt.minute\n",
    "\n",
    "\n",
    "\n",
    "# Step 3: Drop original datetime columns\n",
    "df = df.drop(columns=[\"aqi_timestamp\"], errors=\"ignore\")\n",
    "\n",
    "# Step 4: Define target and features\n",
    "target = df[\"aqi_index\"]\n",
    "X = df.drop(columns=[\"aqi_index\"])\n",
    "\n",
    "# Step 5: Final check for datetime columns\n",
    "X = X.select_dtypes(exclude=[\"datetime64[ns]\"])\n",
    "\n",
    "# Step 6: Split\n",
    "X_train, X_test, y_train, y_test = train_test_split(X, target, test_size=0.2, random_state=42)\n"
   ]
  },
  {
   "cell_type": "code",
   "execution_count": 4,
   "id": "414706e3",
   "metadata": {},
   "outputs": [],
   "source": [
    "# Import necessary libraries\n",
    "from sklearn.ensemble import RandomForestRegressor, GradientBoostingRegressor\n",
    "from sklearn.linear_model import LinearRegression, Ridge\n",
    "from sklearn.svm import SVR\n",
    "from sklearn.neural_network import MLPRegressor\n",
    "from sklearn.metrics import mean_squared_error, mean_absolute_error, r2_score\n",
    "from sklearn.model_selection import train_test_split\n",
    "import joblib"
   ]
  },
  {
   "cell_type": "code",
   "execution_count": 5,
   "id": "c81e2291",
   "metadata": {},
   "outputs": [
    {
     "name": "stderr",
     "output_type": "stream",
     "text": [
      "/Library/Frameworks/Python.framework/Versions/3.11/lib/python3.11/site-packages/sklearn/metrics/_regression.py:492: FutureWarning: 'squared' is deprecated in version 1.4 and will be removed in 1.6. To calculate the root mean squared error, use the function'root_mean_squared_error'.\n",
      "  warnings.warn(\n"
     ]
    },
    {
     "name": "stdout",
     "output_type": "stream",
     "text": [
      "Model: Random_Forest\n",
      "  RMSE: 0.042412424872746865\n",
      "  MAE: 0.006712250331479037\n",
      "  R²: 0.9979231555689491\n",
      "\n"
     ]
    },
    {
     "name": "stderr",
     "output_type": "stream",
     "text": [
      "/Library/Frameworks/Python.framework/Versions/3.11/lib/python3.11/site-packages/sklearn/metrics/_regression.py:492: FutureWarning: 'squared' is deprecated in version 1.4 and will be removed in 1.6. To calculate the root mean squared error, use the function'root_mean_squared_error'.\n",
      "  warnings.warn(\n",
      "/Library/Frameworks/Python.framework/Versions/3.11/lib/python3.11/site-packages/sklearn/metrics/_regression.py:492: FutureWarning: 'squared' is deprecated in version 1.4 and will be removed in 1.6. To calculate the root mean squared error, use the function'root_mean_squared_error'.\n",
      "  warnings.warn(\n",
      "/Library/Frameworks/Python.framework/Versions/3.11/lib/python3.11/site-packages/sklearn/metrics/_regression.py:492: FutureWarning: 'squared' is deprecated in version 1.4 and will be removed in 1.6. To calculate the root mean squared error, use the function'root_mean_squared_error'.\n",
      "  warnings.warn(\n"
     ]
    },
    {
     "name": "stdout",
     "output_type": "stream",
     "text": [
      "Model: Gradient_Boosting\n",
      "  RMSE: 0.04659467797520641\n",
      "  MAE: 0.014019899770630643\n",
      "  R²: 0.9974933691016691\n",
      "\n",
      "Model: Linear_Regression\n",
      "  RMSE: 0.5732028490884581\n",
      "  MAE: 0.45661327275031893\n",
      "  R²: 0.6206549334666698\n",
      "\n",
      "Model: Ridge_Regression\n",
      "  RMSE: 0.5750599692537701\n",
      "  MAE: 0.4582451847284113\n",
      "  R²: 0.6181928709995748\n",
      "\n"
     ]
    },
    {
     "name": "stderr",
     "output_type": "stream",
     "text": [
      "/Library/Frameworks/Python.framework/Versions/3.11/lib/python3.11/site-packages/sklearn/metrics/_regression.py:492: FutureWarning: 'squared' is deprecated in version 1.4 and will be removed in 1.6. To calculate the root mean squared error, use the function'root_mean_squared_error'.\n",
      "  warnings.warn(\n"
     ]
    },
    {
     "name": "stdout",
     "output_type": "stream",
     "text": [
      "Model: Support_Vector_Regressor\n",
      "  RMSE: 0.4289844237705251\n",
      "  MAE: 0.2966944096660549\n",
      "  R²: 0.7875284400550668\n",
      "\n"
     ]
    },
    {
     "name": "stderr",
     "output_type": "stream",
     "text": [
      "/Library/Frameworks/Python.framework/Versions/3.11/lib/python3.11/site-packages/sklearn/metrics/_regression.py:492: FutureWarning: 'squared' is deprecated in version 1.4 and will be removed in 1.6. To calculate the root mean squared error, use the function'root_mean_squared_error'.\n",
      "  warnings.warn(\n"
     ]
    },
    {
     "name": "stdout",
     "output_type": "stream",
     "text": [
      "Model: Neural_Network\n",
      "  RMSE: 2.6272656508629004\n",
      "  MAE: 1.9501080885467714\n",
      "  R²: -6.969402014984009\n",
      "\n",
      "\n",
      " Best model: Random_Forest (RMSE = 0.04)\n",
      "Model uploaded to s3://my-feature-store-data/models/best_model.pkl\n",
      "\n",
      " Summary of Model Performance:\n",
      "                      Model      RMSE       MAE        R²\n",
      "0             Random_Forest  0.042412  0.006712  0.997923\n",
      "1         Gradient_Boosting  0.046595  0.014020  0.997493\n",
      "2         Linear_Regression  0.573203  0.456613  0.620655\n",
      "3          Ridge_Regression  0.575060  0.458245  0.618193\n",
      "4  Support_Vector_Regressor  0.428984  0.296694  0.787528\n",
      "5            Neural_Network  2.627266  1.950108 -6.969402\n"
     ]
    }
   ],
   "source": [
    "# ✅ Step 3: Define Models\n",
    "models = {\n",
    "    \"Random_Forest\": RandomForestRegressor(n_estimators=300, max_depth=10, random_state=42),\n",
    "    \"Gradient_Boosting\": GradientBoostingRegressor(n_estimators=300, max_depth=3, random_state=42),\n",
    "    \"Linear_Regression\": LinearRegression(),\n",
    "    \"Ridge_Regression\": Ridge(alpha=1.0),\n",
    "    \"Support_Vector_Regressor\": SVR(),\n",
    "    \"Neural_Network\": MLPRegressor(max_iter=200, random_state=42)\n",
    "}\n",
    "\n",
    "# -----------------------\n",
    "# ✅ Step 4: Train and Evaluate\n",
    "results = []\n",
    "best_model = None\n",
    "best_model_name = None\n",
    "best_rmse = float(\"inf\")\n",
    "\n",
    "for model_name, model in models.items():\n",
    "    model.fit(X_train, y_train)\n",
    "    y_pred = model.predict(X_test)\n",
    "\n",
    "    rmse = mean_squared_error(y_test, y_pred, squared=False)\n",
    "    mae = mean_absolute_error(y_test, y_pred)\n",
    "    r2 = r2_score(y_test, y_pred)\n",
    "\n",
    "    results.append({\n",
    "        \"Model\": model_name,\n",
    "        \"RMSE\": rmse,\n",
    "        \"MAE\": mae,\n",
    "        \"R²\": r2\n",
    "    })\n",
    "\n",
    "    if rmse < best_rmse:\n",
    "        best_rmse = rmse\n",
    "        best_model = model\n",
    "        best_model_name = model_name\n",
    "\n",
    "    print(f\"Model: {model_name}\")\n",
    "    print(f\"  RMSE: {rmse}\")\n",
    "    print(f\"  MAE: {mae}\")\n",
    "    print(f\"  R²: {r2}\\n\")\n",
    "\n",
    "# -----------------------\n",
    "#  Step 5: Save Best Model Locally\n",
    "print(f\"\\n Best model: {best_model_name} (RMSE = {best_rmse:.2f})\")\n",
    "joblib.dump(best_model, \"best_model.pkl\")\n",
    "\n",
    "S3_KEY = \"models/best_model.pkl\"  # Example: \"models/best_model.pkl\"\n",
    "\n",
    "# Upload\n",
    "s3.upload_file(\"best_model.pkl\", bucket_name, S3_KEY)\n",
    "print(f\"Model uploaded to s3://{bucket_name}/{S3_KEY}\")\n",
    "\n",
    "# -----------------------\n",
    "# Step 7: Summary\n",
    "results_df = pd.DataFrame(results)\n",
    "print(\"\\n Summary of Model Performance:\")\n",
    "print(results_df)"
   ]
  },
  {
   "cell_type": "code",
   "execution_count": null,
   "id": "f53ea905",
   "metadata": {},
   "outputs": [],
   "source": []
  }
 ],
 "metadata": {
  "kernelspec": {
   "display_name": "Python 3",
   "language": "python",
   "name": "python3"
  },
  "language_info": {
   "codemirror_mode": {
    "name": "ipython",
    "version": 3
   },
   "file_extension": ".py",
   "mimetype": "text/x-python",
   "name": "python",
   "nbconvert_exporter": "python",
   "pygments_lexer": "ipython3",
   "version": "3.11.5"
  }
 },
 "nbformat": 4,
 "nbformat_minor": 5
}
