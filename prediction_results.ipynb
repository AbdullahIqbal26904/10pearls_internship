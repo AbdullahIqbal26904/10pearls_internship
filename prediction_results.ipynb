{
 "cells": [
  {
   "cell_type": "code",
   "execution_count": 1,
   "id": "64774c43",
   "metadata": {},
   "outputs": [],
   "source": [
    "import pandas as pd\n",
    "import boto3\n",
    "import os"
   ]
  },
  {
   "cell_type": "code",
   "execution_count": 2,
   "id": "e89f79e1",
   "metadata": {},
   "outputs": [],
   "source": [
    "\n",
    "bucket_name = 'my-feature-store-data'\n",
    "data_key = 'pipeline-data/data.csv'\n",
    "prediction_key = 'predictions/prediction_results.csv'\n",
    "        # Create S3 client\n",
    "s3 = boto3.client(\n",
    "    's3',\n",
    "    aws_access_key_id=os.getenv('AWS_ACCESS_KEY_ID'),\n",
    "    aws_secret_access_key=os.getenv('AWS_SECRET_ACCESS_KEY'),\n",
    ")\n",
    "\n",
    "# Load dataset\n",
    "obj = s3.get_object(Bucket=bucket_name, Key=data_key)\n",
    "historical_data = pd.read_csv(obj['Body'])\n",
    "# Load predictions\n",
    "obj = s3.get_object(Bucket=bucket_name, Key=prediction_key)\n",
    "predictions = pd.read_csv(obj['Body'])"
   ]
  },
  {
   "cell_type": "code",
   "execution_count": 4,
   "id": "114045a5",
   "metadata": {},
   "outputs": [
    {
     "name": "stdout",
     "output_type": "stream",
     "text": [
      "      index  aqi_index      co    no   no2     o3   so2  pm2_5    pm10   nh3  \\\n",
      "4336   4336        4.0  113.63  0.01  0.05  72.76  0.43  44.26  161.20  0.00   \n",
      "4337   4337        4.0  113.63  0.01  0.05  72.76  0.43  44.26  161.20  0.00   \n",
      "4338   4338        4.0  113.97  0.01  0.07  68.93  0.48  44.69  162.71  0.00   \n",
      "4339   4339        4.0  109.04  0.01  0.06  67.06  0.27  44.82  155.90  0.00   \n",
      "4340   4340        3.0  121.95  0.01  0.06  64.67  0.34  23.72   80.36  0.01   \n",
      "\n",
      "      ...  surface_pressure  dew_point_2m  apparent_temperature  \\\n",
      "4336  ...            1006.0          23.4                 40.86   \n",
      "4337  ...            1003.9          23.1                 31.10   \n",
      "4338  ...            1003.9          23.1                 31.10   \n",
      "4339  ...            1004.6          23.1                 38.80   \n",
      "4340  ...            1002.4          23.3                 38.20   \n",
      "\n",
      "      shortwave_radiation  et0_fao_evapotranspiration    year  month   day  \\\n",
      "4336                  0.0                        0.00  2025.0    4.0  26.0   \n",
      "4337                  0.0                        0.00  2025.0    4.0  26.0   \n",
      "4338                  0.0                        0.00  2025.0    4.0  26.0   \n",
      "4339                847.0                        0.72  2025.0    4.0  27.0   \n",
      "4340                835.0                        0.69  2025.0    5.0   4.0   \n",
      "\n",
      "      hour  Calculated_AQI  \n",
      "4336   7.0             212  \n",
      "4337   7.0             212  \n",
      "4338  11.0             213  \n",
      "4339  10.0             206  \n",
      "4340   8.0             185  \n",
      "\n",
      "[5 rows x 25 columns]\n"
     ]
    }
   ],
   "source": [
    "print(historical_data.tail())"
   ]
  },
  {
   "cell_type": "code",
   "execution_count": 5,
   "id": "193d630b",
   "metadata": {},
   "outputs": [],
   "source": [
    "historical_data.to_csv('historical_data.csv', index=False)"
   ]
  },
  {
   "cell_type": "code",
   "execution_count": null,
   "id": "adb6a7ff",
   "metadata": {},
   "outputs": [],
   "source": []
  }
 ],
 "metadata": {
  "kernelspec": {
   "display_name": "Python 3",
   "language": "python",
   "name": "python3"
  },
  "language_info": {
   "codemirror_mode": {
    "name": "ipython",
    "version": 3
   },
   "file_extension": ".py",
   "mimetype": "text/x-python",
   "name": "python",
   "nbconvert_exporter": "python",
   "pygments_lexer": "ipython3",
   "version": "3.11.5"
  }
 },
 "nbformat": 4,
 "nbformat_minor": 5
}
