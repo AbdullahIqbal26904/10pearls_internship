{
 "cells": [
  {
   "cell_type": "code",
   "execution_count": 27,
   "id": "7afd69dc",
   "metadata": {},
   "outputs": [
    {
     "name": "stdout",
     "output_type": "stream",
     "text": [
      "2025-04-27 13:39:31\n"
     ]
    }
   ],
   "source": [
    "import datetime\n",
    "\n",
    "# Given JSON data\n",
    "data = {\n",
    "    \"coord\": {\n",
    "        \"lon\": 67.0207,\n",
    "        \"lat\": 24.8547\n",
    "    },\n",
    "    \"list\": [\n",
    "        {\n",
    "            \"main\": {\n",
    "                \"aqi\": 4\n",
    "            },\n",
    "            \"components\": {\n",
    "                \"co\": 105.36,\n",
    "                \"no\": 0,\n",
    "                \"no2\": 0.11,\n",
    "                \"o3\": 67.1,\n",
    "                \"so2\": 0.25,\n",
    "                \"pm2_5\": 38.69,\n",
    "                \"pm10\": 136.59,\n",
    "                \"nh3\": 0\n",
    "            },\n",
    "            \"dt\": 1745761171\n",
    "        }\n",
    "    ]\n",
    "}\n",
    "\n",
    "# Extracting the Unix timestamp\n",
    "timestamp = data[\"list\"][0][\"dt\"]\n",
    "\n",
    "# Converting Unix timestamp to datetime\n",
    "dt_object = datetime.datetime.utcfromtimestamp(timestamp)\n",
    "\n",
    "# Print the formatted date and time\n",
    "print(dt_object.strftime(\"%Y-%m-%d %H:%M:%S\"))\n"
   ]
  },
  {
   "cell_type": "code",
   "execution_count": 28,
   "id": "f72f3d64",
   "metadata": {},
   "outputs": [],
   "source": [
    "import json\n",
    "with open('./historical_aqi_weather_data.json', \"r\") as f:\n",
    "    data = json.load(f)\n"
   ]
  },
  {
   "cell_type": "code",
   "execution_count": null,
   "id": "983d9f0c",
   "metadata": {},
   "outputs": [
    {
     "name": "stdout",
     "output_type": "stream",
     "text": [
      "CSV file created: aqi_weather_data.csv\n"
     ]
    }
   ],
   "source": [
    "import json\n",
    "import pandas as pd\n",
    "\n",
    "# Load JSON file\n",
    "with open('./historical_aqi_weather_data.json', 'r') as f:\n",
    "    data = json.load(f)\n",
    "\n",
    "records = []\n",
    "\n",
    "for item in data:\n",
    "    weather_data = item['weather']\n",
    "    aqi_info = item['aqi']\n",
    "    aqi_list = aqi_info['list']\n",
    "\n",
    "    if aqi_list:  # AQI data is available\n",
    "        aqi_data = aqi_list[0]\n",
    "        components = aqi_data['components']\n",
    "        record = {\n",
    "            'aqi_index': aqi_data['main']['aqi'],\n",
    "            'aqi_timestamp': aqi_data['dt'],\n",
    "            'co': components['co'],\n",
    "            'no': components['no'],\n",
    "            'no2': components['no2'],\n",
    "            'o3': components['o3'],\n",
    "            'so2': components['so2'],\n",
    "            'pm2_5': components['pm2_5'],\n",
    "            'pm10': components['pm10'],\n",
    "            'nh3': components['nh3']\n",
    "        }\n",
    "    else:  # AQI data is missing\n",
    "        record = {\n",
    "            'aqi_index': None,\n",
    "            'aqi_timestamp': None,\n",
    "            'co': None,\n",
    "            'no': None,\n",
    "            'no2': None,\n",
    "            'o3': None,\n",
    "            'so2': None,\n",
    "            'pm2_5': None,\n",
    "            'pm10': None,\n",
    "            'nh3': None,\n",
    "        }\n",
    "\n",
    "    # Add weather data\n",
    "    record.update({\n",
    "        'temperature_2m': weather_data['temperature_2m'],\n",
    "        'relative_humidity_2m': weather_data['relative_humidity_2m'],\n",
    "        'precipitation': weather_data['precipitation'],\n",
    "        'wind_speed_10m': weather_data['wind_speed_10m'],\n",
    "        'wind_direction_10m': weather_data['wind_direction_10m'],\n",
    "        'surface_pressure': weather_data['surface_pressure'],\n",
    "        'dew_point_2m': weather_data['dew_point_2m'],\n",
    "        'apparent_temperature': weather_data['apparent_temperature'],\n",
    "        'shortwave_radiation': weather_data['shortwave_radiation'],\n",
    "        'et0_fao_evapotranspiration': weather_data['et0_fao_evapotranspiration'],\n",
    "    })\n",
    "\n",
    "    records.append(record)\n",
    "\n",
    "# Convert to DataFrame\n",
    "df = pd.DataFrame(records)\n",
    "\n",
    "\n"
   ]
  },
  {
   "cell_type": "code",
   "execution_count": 30,
   "id": "acd7f75f",
   "metadata": {},
   "outputs": [
    {
     "name": "stdout",
     "output_type": "stream",
     "text": [
      "   aqi_index       co    no    no2     o3    so2  pm2_5    pm10    nh3  \\\n",
      "0        4.0  1201.63  0.01  45.24  41.13   8.82  68.43  112.67  11.78   \n",
      "1        4.0  1388.55  0.05  57.58  26.46   8.94  71.22  113.28  10.39   \n",
      "2        5.0  1468.66  0.06  58.26  21.99  10.01  76.47  117.74  10.64   \n",
      "3        5.0  1375.20  0.01  48.67  26.82  10.73  79.89  121.13  11.02   \n",
      "4        4.0  1001.36  0.00  30.85  43.99   8.82  72.51  111.48   8.87   \n",
      "\n",
      "   temperature_2m  ...  precipitation  wind_speed_10m  wind_direction_10m  \\\n",
      "0            27.3  ...            0.0            11.7               314.0   \n",
      "1            26.8  ...            0.0            13.2               307.0   \n",
      "2            26.2  ...            0.0            15.8               323.0   \n",
      "3            26.0  ...            0.0            15.1               331.0   \n",
      "4            26.0  ...            0.0            13.7               322.0   \n",
      "\n",
      "   surface_pressure  dew_point_2m  apparent_temperature  shortwave_radiation  \\\n",
      "0            1011.3          23.8                  31.5                  0.0   \n",
      "1            1011.2          24.0                  30.9                  0.0   \n",
      "2            1011.0          24.4                  30.3                  0.0   \n",
      "3            1010.9          24.9                  30.5                  0.0   \n",
      "4            1011.0          24.9                  30.6                  0.0   \n",
      "\n",
      "   et0_fao_evapotranspiration        date      time  \n",
      "0                        0.03  2024-10-22  19:00:00  \n",
      "1                        0.02  2024-10-22  20:00:00  \n",
      "2                        0.02  2024-10-22  21:00:00  \n",
      "3                        0.00  2024-10-22  22:00:00  \n",
      "4                        0.00  2024-10-22  23:00:00  \n",
      "\n",
      "[5 rows x 21 columns]\n"
     ]
    }
   ],
   "source": [
    "# Convert 'aqi_timestamp' to datetime and extract date and time, with NaN handling\n",
    "df['date'] = df['aqi_timestamp'].apply(lambda x: datetime.datetime.utcfromtimestamp(x).strftime('%Y-%m-%d') if pd.notna(x) else None)\n",
    "df['time'] = df['aqi_timestamp'].apply(lambda x: datetime.datetime.utcfromtimestamp(x).strftime('%H:%M:%S') if pd.notna(x) else None)\n",
    "\n",
    "# Print the result\n",
    "\n",
    "df.drop(columns=['aqi_timestamp'], inplace=True)\n",
    "print(df.head())\n"
   ]
  },
  {
   "cell_type": "code",
   "execution_count": 32,
   "id": "6e6e24f4",
   "metadata": {},
   "outputs": [
    {
     "name": "stdout",
     "output_type": "stream",
     "text": [
      "CSV file created: aqi_weather_data.csv\n"
     ]
    }
   ],
   "source": [
    "# Save to CSV\n",
    "df.to_csv('aqi_weather_data.csv', index=False)\n",
    "print(\"CSV file created: aqi_weather_data.csv\")"
   ]
  },
  {
   "cell_type": "code",
   "execution_count": 31,
   "id": "d9ff493b",
   "metadata": {},
   "outputs": [
    {
     "name": "stdout",
     "output_type": "stream",
     "text": [
      "      aqi_index       co    no    no2     o3    so2  pm2_5    pm10    nh3  \\\n",
      "0           4.0  1201.63  0.01  45.24  41.13   8.82  68.43  112.67  11.78   \n",
      "1           4.0  1388.55  0.05  57.58  26.46   8.94  71.22  113.28  10.39   \n",
      "2           5.0  1468.66  0.06  58.26  21.99  10.01  76.47  117.74  10.64   \n",
      "3           5.0  1375.20  0.01  48.67  26.82  10.73  79.89  121.13  11.02   \n",
      "4           4.0  1001.36  0.00  30.85  43.99   8.82  72.51  111.48   8.87   \n",
      "...         ...      ...   ...    ...    ...    ...    ...     ...    ...   \n",
      "4335        4.0   113.41  0.00   0.11  61.93   0.43  38.76  129.78   0.00   \n",
      "4336        4.0   113.63  0.01   0.05  72.76   0.43  44.26  161.20   0.00   \n",
      "4337        4.0   113.63  0.01   0.05  72.76   0.43  44.26  161.20   0.00   \n",
      "4338        4.0   113.97  0.01   0.07  68.93   0.48  44.69  162.71   0.00   \n",
      "4339        4.0   109.04  0.01   0.06  67.06   0.27  44.82  155.90   0.00   \n",
      "\n",
      "      temperature_2m  ...  precipitation  wind_speed_10m  wind_direction_10m  \\\n",
      "0              27.30  ...            0.0           11.70               314.0   \n",
      "1              26.80  ...            0.0           13.20               307.0   \n",
      "2              26.20  ...            0.0           15.80               323.0   \n",
      "3              26.00  ...            0.0           15.10               331.0   \n",
      "4              26.00  ...            0.0           13.70               322.0   \n",
      "...              ...  ...            ...             ...                 ...   \n",
      "4335           27.30  ...            0.0            4.80               243.0   \n",
      "4336           40.09  ...            0.0            5.66               260.0   \n",
      "4337           26.20  ...            0.0            4.30               275.0   \n",
      "4338           26.20  ...            0.0            4.30               275.0   \n",
      "4339           34.80  ...            0.0           20.70               247.0   \n",
      "\n",
      "      surface_pressure  dew_point_2m  apparent_temperature  \\\n",
      "0               1011.3          23.8                 31.50   \n",
      "1               1011.2          24.0                 30.90   \n",
      "2               1011.0          24.4                 30.30   \n",
      "3               1010.9          24.9                 30.50   \n",
      "4               1011.0          24.9                 30.60   \n",
      "...                ...           ...                   ...   \n",
      "4335            1005.6          23.7                 32.50   \n",
      "4336            1006.0           NaN                 40.86   \n",
      "4337            1003.9          23.1                 31.10   \n",
      "4338            1003.9          23.1                 31.10   \n",
      "4339            1004.6          23.1                 38.80   \n",
      "\n",
      "      shortwave_radiation  et0_fao_evapotranspiration        date      time  \n",
      "0                     0.0                        0.03  2024-10-22  19:00:00  \n",
      "1                     0.0                        0.02  2024-10-22  20:00:00  \n",
      "2                     0.0                        0.02  2024-10-22  21:00:00  \n",
      "3                     0.0                        0.00  2024-10-22  22:00:00  \n",
      "4                     0.0                        0.00  2024-10-22  23:00:00  \n",
      "...                   ...                         ...         ...       ...  \n",
      "4335                  0.0                        0.00  2025-04-25  19:00:00  \n",
      "4336                  0.0                        0.00  2025-04-26  07:37:41  \n",
      "4337                  0.0                        0.00  2025-04-26  07:57:37  \n",
      "4338                  0.0                        0.00  2025-04-26  11:56:22  \n",
      "4339                847.0                        0.72  2025-04-27  10:21:15  \n",
      "\n",
      "[4340 rows x 21 columns]\n"
     ]
    }
   ],
   "source": [
    "print(df)"
   ]
  },
  {
   "cell_type": "code",
   "execution_count": null,
   "id": "230b76c3",
   "metadata": {},
   "outputs": [],
   "source": []
  }
 ],
 "metadata": {
  "kernelspec": {
   "display_name": "Python 3",
   "language": "python",
   "name": "python3"
  },
  "language_info": {
   "codemirror_mode": {
    "name": "ipython",
    "version": 3
   },
   "file_extension": ".py",
   "mimetype": "text/x-python",
   "name": "python",
   "nbconvert_exporter": "python",
   "pygments_lexer": "ipython3",
   "version": "3.11.5"
  }
 },
 "nbformat": 4,
 "nbformat_minor": 5
}
