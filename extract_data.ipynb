{
 "cells": [
  {
   "cell_type": "code",
   "execution_count": 2,
   "id": "4adc93b8",
   "metadata": {},
   "outputs": [],
   "source": [
    "import boto3\n",
    "import pandas as pd\n",
    "import os\n",
    "import json\n"
   ]
  },
  {
   "cell_type": "code",
   "execution_count": 3,
   "id": "eaa8f536",
   "metadata": {},
   "outputs": [
    {
     "name": "stdout",
     "output_type": "stream",
     "text": [
      "Loaded data with 4342 records\n"
     ]
    }
   ],
   "source": [
    "bucket_name = 'my-feature-store-data'\n",
    "data_key = 'raw-data/historical_aqi_weather_data.json'\n",
    "        # Create S3 client\n",
    "s3 = boto3.client(\n",
    "    's3',\n",
    "    aws_access_key_id=os.getenv('AWS_ACCESS_KEY_ID'),\n",
    "    aws_secret_access_key=os.getenv('AWS_SECRET_ACCESS_KEY'),\n",
    ")\n",
    "\n",
    "# Load dataset\n",
    "obj = s3.get_object(Bucket=bucket_name, Key=data_key)\n",
    "\n",
    "\n",
    "# Get the content from the object's body\n",
    "data = json.loads(obj['Body'].read().decode('utf-8'))\n",
    "\n",
    "# Now 'data' contains your JSON data\n",
    "print(f\"Loaded data with {len(data)} records\" if isinstance(data, list) else \"Loaded JSON data\")\n"
   ]
  },
  {
   "cell_type": "code",
   "execution_count": 4,
   "id": "983d9f0c",
   "metadata": {},
   "outputs": [],
   "source": [
    "import json\n",
    "import pandas as pd\n",
    "\n",
    "# # Load JSON file\n",
    "# with open('./historical_aqi_weather_data.json', 'r') as f:\n",
    "#     data = json.load(f)\n",
    "\n",
    "records = []\n",
    "\n",
    "for item in data:\n",
    "    weather_data = item['weather']\n",
    "    aqi_info = item['aqi']\n",
    "    aqi_list = aqi_info['list']\n",
    "\n",
    "    if aqi_list:  # AQI data is available\n",
    "        aqi_data = aqi_list[0]\n",
    "        components = aqi_data['components']\n",
    "        record = {\n",
    "            'aqi_index': aqi_data['main']['aqi'],\n",
    "            'aqi_timestamp': aqi_data['dt'],\n",
    "            'co': components['co'],\n",
    "            'no': components['no'],\n",
    "            'no2': components['no2'],\n",
    "            'o3': components['o3'],\n",
    "            'so2': components['so2'],\n",
    "            'pm2_5': components['pm2_5'],\n",
    "            'pm10': components['pm10'],\n",
    "            'nh3': components['nh3']\n",
    "        }\n",
    "    else:  # AQI data is missing\n",
    "        record = {\n",
    "            'aqi_index': None,\n",
    "            'aqi_timestamp': None,\n",
    "            'co': None,\n",
    "            'no': None,\n",
    "            'no2': None,\n",
    "            'o3': None,\n",
    "            'so2': None,\n",
    "            'pm2_5': None,\n",
    "            'pm10': None,\n",
    "            'nh3': None,\n",
    "        }\n",
    "\n",
    "    # Add weather data\n",
    "    record.update({\n",
    "        'temperature_2m': weather_data['temperature_2m'],\n",
    "        'relative_humidity_2m': weather_data['relative_humidity_2m'],\n",
    "        'precipitation': weather_data['precipitation'],\n",
    "        'wind_speed_10m': weather_data['wind_speed_10m'],\n",
    "        'wind_direction_10m': weather_data['wind_direction_10m'],\n",
    "        'surface_pressure': weather_data['surface_pressure'],\n",
    "        'dew_point_2m': weather_data['dew_point_2m'],\n",
    "        'apparent_temperature': weather_data['apparent_temperature'],\n",
    "        'shortwave_radiation': weather_data['shortwave_radiation'],\n",
    "        'et0_fao_evapotranspiration': weather_data['et0_fao_evapotranspiration'],\n",
    "    })\n",
    "\n",
    "    records.append(record)\n",
    "\n",
    "# Convert to DataFrame\n",
    "df = pd.DataFrame(records)\n",
    "\n",
    "\n"
   ]
  },
  {
   "cell_type": "code",
   "execution_count": 5,
   "id": "acd7f75f",
   "metadata": {},
   "outputs": [
    {
     "name": "stdout",
     "output_type": "stream",
     "text": [
      "     year  month   day  hour\n",
      "0  2024.0   10.0  22.0  19.0\n",
      "1  2024.0   10.0  22.0  20.0\n",
      "2  2024.0   10.0  22.0  21.0\n",
      "3  2024.0   10.0  22.0  22.0\n",
      "4  2024.0   10.0  22.0  23.0\n",
      "   aqi_index       co    no    no2     o3    so2  pm2_5    pm10    nh3  \\\n",
      "0        4.0  1201.63  0.01  45.24  41.13   8.82  68.43  112.67  11.78   \n",
      "1        4.0  1388.55  0.05  57.58  26.46   8.94  71.22  113.28  10.39   \n",
      "2        5.0  1468.66  0.06  58.26  21.99  10.01  76.47  117.74  10.64   \n",
      "3        5.0  1375.20  0.01  48.67  26.82  10.73  79.89  121.13  11.02   \n",
      "4        4.0  1001.36  0.00  30.85  43.99   8.82  72.51  111.48   8.87   \n",
      "\n",
      "   temperature_2m  ...  wind_direction_10m  surface_pressure  dew_point_2m  \\\n",
      "0            27.3  ...               314.0            1011.3          23.8   \n",
      "1            26.8  ...               307.0            1011.2          24.0   \n",
      "2            26.2  ...               323.0            1011.0          24.4   \n",
      "3            26.0  ...               331.0            1010.9          24.9   \n",
      "4            26.0  ...               322.0            1011.0          24.9   \n",
      "\n",
      "   apparent_temperature  shortwave_radiation  et0_fao_evapotranspiration  \\\n",
      "0                  31.5                  0.0                        0.03   \n",
      "1                  30.9                  0.0                        0.02   \n",
      "2                  30.3                  0.0                        0.02   \n",
      "3                  30.5                  0.0                        0.00   \n",
      "4                  30.6                  0.0                        0.00   \n",
      "\n",
      "     year  month   day  hour  \n",
      "0  2024.0   10.0  22.0  19.0  \n",
      "1  2024.0   10.0  22.0  20.0  \n",
      "2  2024.0   10.0  22.0  21.0  \n",
      "3  2024.0   10.0  22.0  22.0  \n",
      "4  2024.0   10.0  22.0  23.0  \n",
      "\n",
      "[5 rows x 23 columns]\n"
     ]
    }
   ],
   "source": [
    "import datetime\n",
    "# Convert 'aqi_timestamp' to datetime and extract individual components\n",
    "df['year'] = df['aqi_timestamp'].apply(lambda x: datetime.datetime.utcfromtimestamp(x).year if pd.notna(x) else None)\n",
    "df['month'] = df['aqi_timestamp'].apply(lambda x: datetime.datetime.utcfromtimestamp(x).month if pd.notna(x) else None)\n",
    "df['day'] = df['aqi_timestamp'].apply(lambda x: datetime.datetime.utcfromtimestamp(x).day if pd.notna(x) else None)\n",
    "df['hour'] = df['aqi_timestamp'].apply(lambda x: datetime.datetime.utcfromtimestamp(x).hour if pd.notna(x) else None)\n",
    "\n",
    "# Print the result\n",
    "print(df[['year', 'month', 'day', 'hour']].head())\n",
    "# Print the result\n",
    "\n",
    "df.drop(columns=['aqi_timestamp'], inplace=True)\n",
    "print(df.head())\n"
   ]
  },
  {
   "cell_type": "code",
   "execution_count": 6,
   "id": "6e6e24f4",
   "metadata": {},
   "outputs": [
    {
     "name": "stdout",
     "output_type": "stream",
     "text": [
      "CSV file created: aqi_weather_data.csv\n"
     ]
    }
   ],
   "source": [
    "# Save to CSV\n",
    "df.to_csv('aqi_weather_data.csv', index=False)\n",
    "print(\"CSV file created: aqi_weather_data.csv\")"
   ]
  },
  {
   "cell_type": "code",
   "execution_count": 7,
   "id": "d9ff493b",
   "metadata": {},
   "outputs": [
    {
     "name": "stdout",
     "output_type": "stream",
     "text": [
      "      aqi_index       co    no    no2     o3    so2  pm2_5    pm10    nh3  \\\n",
      "0           4.0  1201.63  0.01  45.24  41.13   8.82  68.43  112.67  11.78   \n",
      "1           4.0  1388.55  0.05  57.58  26.46   8.94  71.22  113.28  10.39   \n",
      "2           5.0  1468.66  0.06  58.26  21.99  10.01  76.47  117.74  10.64   \n",
      "3           5.0  1375.20  0.01  48.67  26.82  10.73  79.89  121.13  11.02   \n",
      "4           4.0  1001.36  0.00  30.85  43.99   8.82  72.51  111.48   8.87   \n",
      "...         ...      ...   ...    ...    ...    ...    ...     ...    ...   \n",
      "4337        4.0   113.63  0.01   0.05  72.76   0.43  44.26  161.20   0.00   \n",
      "4338        4.0   113.97  0.01   0.07  68.93   0.48  44.69  162.71   0.00   \n",
      "4339        4.0   109.04  0.01   0.06  67.06   0.27  44.82  155.90   0.00   \n",
      "4340        3.0   105.50  0.00   0.08  58.63   0.39  18.45   58.66   0.00   \n",
      "4341        3.0   126.77  0.01   0.06  61.86   0.36  22.40   77.26   0.01   \n",
      "\n",
      "      temperature_2m  ...  wind_direction_10m  surface_pressure  dew_point_2m  \\\n",
      "0               27.3  ...               314.0            1011.3          23.8   \n",
      "1               26.8  ...               307.0            1011.2          24.0   \n",
      "2               26.2  ...               323.0            1011.0          24.4   \n",
      "3               26.0  ...               331.0            1010.9          24.9   \n",
      "4               26.0  ...               322.0            1011.0          24.9   \n",
      "...              ...  ...                 ...               ...           ...   \n",
      "4337            26.2  ...               275.0            1003.9          23.1   \n",
      "4338            26.2  ...               275.0            1003.9          23.1   \n",
      "4339            34.8  ...               247.0            1004.6          23.1   \n",
      "4340            27.9  ...               249.0            1004.9          25.2   \n",
      "4341            33.9  ...               235.0            1001.3          23.6   \n",
      "\n",
      "      apparent_temperature  shortwave_radiation  et0_fao_evapotranspiration  \\\n",
      "0                     31.5                  0.0                        0.03   \n",
      "1                     30.9                  0.0                        0.02   \n",
      "2                     30.3                  0.0                        0.02   \n",
      "3                     30.5                  0.0                        0.00   \n",
      "4                     30.6                  0.0                        0.00   \n",
      "...                    ...                  ...                         ...   \n",
      "4337                  31.1                  0.0                        0.00   \n",
      "4338                  31.1                  0.0                        0.00   \n",
      "4339                  38.8                847.0                        0.72   \n",
      "4340                  33.6                  0.0                        0.01   \n",
      "4341                  38.5                899.0                        0.73   \n",
      "\n",
      "        year  month   day  hour  \n",
      "0     2024.0   10.0  22.0  19.0  \n",
      "1     2024.0   10.0  22.0  20.0  \n",
      "2     2024.0   10.0  22.0  21.0  \n",
      "3     2024.0   10.0  22.0  22.0  \n",
      "4     2024.0   10.0  22.0  23.0  \n",
      "...      ...    ...   ...   ...  \n",
      "4337  2025.0    4.0  26.0   7.0  \n",
      "4338  2025.0    4.0  26.0  11.0  \n",
      "4339  2025.0    4.0  27.0  10.0  \n",
      "4340  2025.0    5.0   2.0  18.0  \n",
      "4341  2025.0    5.0   4.0   9.0  \n",
      "\n",
      "[4342 rows x 23 columns]\n"
     ]
    }
   ],
   "source": [
    "print(df)"
   ]
  },
  {
   "cell_type": "code",
   "execution_count": 8,
   "id": "230b76c3",
   "metadata": {},
   "outputs": [
    {
     "name": "stdout",
     "output_type": "stream",
     "text": [
      "✅ Successfully uploaded CSV to S3: my-feature-store-data/raw-data/aqi_weather_data.csv\n",
      "S3 URL: s3://my-feature-store-data/raw-data/aqi_weather_data.csv\n"
     ]
    }
   ],
   "source": [
    "# Upload the CSV file to S3\n",
    "try:\n",
    "    # Define the S3 path for the processed data\n",
    "    processed_data_key = 'raw-data/aqi_weather_data.csv'\n",
    "    \n",
    "    # Upload the file to S3\n",
    "    s3.upload_file(\n",
    "        Filename='aqi_weather_data.csv',\n",
    "        Bucket=bucket_name,\n",
    "        Key=processed_data_key\n",
    "    )\n",
    "    \n",
    "    print(f\"✅ Successfully uploaded CSV to S3: {bucket_name}/{processed_data_key}\")\n",
    "    \n",
    "    # Get the S3 URL for the uploaded file\n",
    "    s3_url = f\"s3://{bucket_name}/{processed_data_key}\"\n",
    "    print(f\"S3 URL: {s3_url}\")\n",
    "    \n",
    "except Exception as e:\n",
    "    print(f\"❌ Error uploading CSV to S3: {e}\")"
   ]
  },
  {
   "cell_type": "code",
   "execution_count": null,
   "id": "22462eaa",
   "metadata": {},
   "outputs": [],
   "source": []
  }
 ],
 "metadata": {
  "kernelspec": {
   "display_name": "Python 3",
   "language": "python",
   "name": "python3"
  },
  "language_info": {
   "codemirror_mode": {
    "name": "ipython",
    "version": 3
   },
   "file_extension": ".py",
   "mimetype": "text/x-python",
   "name": "python",
   "nbconvert_exporter": "python",
   "pygments_lexer": "ipython3",
   "version": "3.11.5"
  }
 },
 "nbformat": 4,
 "nbformat_minor": 5
}
