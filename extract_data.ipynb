{
 "cells": [
  {
   "cell_type": "code",
   "execution_count": 6,
   "id": "f72f3d64",
   "metadata": {},
   "outputs": [],
   "source": [
    "import json\n",
    "with open('./historical_aqi_weather_data.json', \"r\") as f:\n",
    "    data = json.load(f)\n"
   ]
  },
  {
   "cell_type": "code",
   "execution_count": 7,
   "id": "983d9f0c",
   "metadata": {},
   "outputs": [
    {
     "name": "stdout",
     "output_type": "stream",
     "text": [
      "CSV file created: aqi_weather_data.csv\n"
     ]
    }
   ],
   "source": [
    "import json\n",
    "import pandas as pd\n",
    "\n",
    "# Load JSON file\n",
    "with open('./historical_aqi_weather_data.json', 'r') as f:\n",
    "    data = json.load(f)\n",
    "\n",
    "records = []\n",
    "\n",
    "for item in data:\n",
    "    weather_data = item['weather']\n",
    "    aqi_info = item['aqi']\n",
    "    aqi_list = aqi_info['list']\n",
    "\n",
    "    if aqi_list:  # AQI data is available\n",
    "        aqi_data = aqi_list[0]\n",
    "        components = aqi_data['components']\n",
    "        record = {\n",
    "            'aqi_index': aqi_data['main']['aqi'],\n",
    "            'aqi_timestamp': aqi_data['dt'],\n",
    "            'co': components['co'],\n",
    "            'no': components['no'],\n",
    "            'no2': components['no2'],\n",
    "            'o3': components['o3'],\n",
    "            'so2': components['so2'],\n",
    "            'pm2_5': components['pm2_5'],\n",
    "            'pm10': components['pm10'],\n",
    "            'nh3': components['nh3'],\n",
    "        }\n",
    "    else:  # AQI data is missing\n",
    "        record = {\n",
    "            'aqi_index': None,\n",
    "            'aqi_timestamp': None,\n",
    "            'co': None,\n",
    "            'no': None,\n",
    "            'no2': None,\n",
    "            'o3': None,\n",
    "            'so2': None,\n",
    "            'pm2_5': None,\n",
    "            'pm10': None,\n",
    "            'nh3': None,\n",
    "        }\n",
    "\n",
    "    # Add weather data\n",
    "    record.update({\n",
    "        'temperature_2m': weather_data['temperature_2m'],\n",
    "        'relative_humidity_2m': weather_data['relative_humidity_2m'],\n",
    "        'precipitation': weather_data['precipitation'],\n",
    "        'wind_speed_10m': weather_data['wind_speed_10m'],\n",
    "        'wind_direction_10m': weather_data['wind_direction_10m'],\n",
    "        'surface_pressure': weather_data['surface_pressure'],\n",
    "        'dew_point_2m': weather_data['dew_point_2m'],\n",
    "        'apparent_temperature': weather_data['apparent_temperature'],\n",
    "        'shortwave_radiation': weather_data['shortwave_radiation'],\n",
    "        'et0_fao_evapotranspiration': weather_data['et0_fao_evapotranspiration'],\n",
    "    })\n",
    "\n",
    "    records.append(record)\n",
    "\n",
    "# Convert to DataFrame\n",
    "df = pd.DataFrame(records)\n",
    "\n",
    "# Save to CSV\n",
    "df.to_csv('aqi_weather_data.csv', index=False)\n",
    "print(\"CSV file created: aqi_weather_data.csv\")\n"
   ]
  },
  {
   "cell_type": "code",
   "execution_count": 8,
   "id": "acd7f75f",
   "metadata": {},
   "outputs": [
    {
     "name": "stdout",
     "output_type": "stream",
     "text": [
      "   aqi_index  aqi_timestamp       co    no    no2     o3    so2  pm2_5  \\\n",
      "0        4.0   1.729624e+09  1201.63  0.01  45.24  41.13   8.82  68.43   \n",
      "1        4.0   1.729627e+09  1388.55  0.05  57.58  26.46   8.94  71.22   \n",
      "2        5.0   1.729631e+09  1468.66  0.06  58.26  21.99  10.01  76.47   \n",
      "3        5.0   1.729634e+09  1375.20  0.01  48.67  26.82  10.73  79.89   \n",
      "4        4.0   1.729638e+09  1001.36  0.00  30.85  43.99   8.82  72.51   \n",
      "\n",
      "     pm10    nh3  temperature_2m  relative_humidity_2m  precipitation  \\\n",
      "0  112.67  11.78            27.3                  81.0            0.0   \n",
      "1  113.28  10.39            26.8                  85.0            0.0   \n",
      "2  117.74  10.64            26.2                  90.0            0.0   \n",
      "3  121.13  11.02            26.0                  94.0            0.0   \n",
      "4  111.48   8.87            26.0                  94.0            0.0   \n",
      "\n",
      "   wind_speed_10m  wind_direction_10m  surface_pressure  dew_point_2m  \\\n",
      "0            11.7               314.0            1011.3          23.8   \n",
      "1            13.2               307.0            1011.2          24.0   \n",
      "2            15.8               323.0            1011.0          24.4   \n",
      "3            15.1               331.0            1010.9          24.9   \n",
      "4            13.7               322.0            1011.0          24.9   \n",
      "\n",
      "   apparent_temperature  shortwave_radiation  et0_fao_evapotranspiration  \n",
      "0                  31.5                  0.0                        0.03  \n",
      "1                  30.9                  0.0                        0.02  \n",
      "2                  30.3                  0.0                        0.02  \n",
      "3                  30.5                  0.0                        0.00  \n",
      "4                  30.6                  0.0                        0.00  \n"
     ]
    }
   ],
   "source": [
    "print(df.head())"
   ]
  },
  {
   "cell_type": "code",
   "execution_count": 9,
   "id": "d9ff493b",
   "metadata": {},
   "outputs": [
    {
     "name": "stdout",
     "output_type": "stream",
     "text": [
      "      aqi_index  aqi_timestamp       co    no    no2     o3    so2  pm2_5  \\\n",
      "0           4.0   1.729624e+09  1201.63  0.01  45.24  41.13   8.82  68.43   \n",
      "1           4.0   1.729627e+09  1388.55  0.05  57.58  26.46   8.94  71.22   \n",
      "2           5.0   1.729631e+09  1468.66  0.06  58.26  21.99  10.01  76.47   \n",
      "3           5.0   1.729634e+09  1375.20  0.01  48.67  26.82  10.73  79.89   \n",
      "4           4.0   1.729638e+09  1001.36  0.00  30.85  43.99   8.82  72.51   \n",
      "...         ...            ...      ...   ...    ...    ...    ...    ...   \n",
      "4333        4.0   1.745251e+09   125.66  0.00   0.08  89.66   0.22  36.13   \n",
      "4334        4.0   1.745255e+09   125.84  0.00   0.08  89.68   0.23  36.91   \n",
      "4335        4.0   1.745608e+09   113.41  0.00   0.11  61.93   0.43  38.76   \n",
      "4336        4.0   1.745653e+09   113.63  0.01   0.05  72.76   0.43  44.26   \n",
      "4337        4.0   1.745654e+09   113.63  0.01   0.05  72.76   0.43  44.26   \n",
      "\n",
      "        pm10    nh3  temperature_2m  relative_humidity_2m  precipitation  \\\n",
      "0     112.67  11.78           27.30                  81.0            0.0   \n",
      "1     113.28  10.39           26.80                  85.0            0.0   \n",
      "2     117.74  10.64           26.20                  90.0            0.0   \n",
      "3     121.13  11.02           26.00                  94.0            0.0   \n",
      "4     111.48   8.87           26.00                  94.0            0.0   \n",
      "...      ...    ...             ...                   ...            ...   \n",
      "4333  156.90   0.15             NaN                   NaN            NaN   \n",
      "4334  159.14   0.14             NaN                   NaN            NaN   \n",
      "4335  129.78   0.00           27.30                  81.0            0.0   \n",
      "4336  161.20   0.00           40.09                  24.0            0.0   \n",
      "4337  161.20   0.00           26.20                  83.0            0.0   \n",
      "\n",
      "      wind_speed_10m  wind_direction_10m  surface_pressure  dew_point_2m  \\\n",
      "0              11.70               314.0            1011.3          23.8   \n",
      "1              13.20               307.0            1011.2          24.0   \n",
      "2              15.80               323.0            1011.0          24.4   \n",
      "3              15.10               331.0            1010.9          24.9   \n",
      "4              13.70               322.0            1011.0          24.9   \n",
      "...              ...                 ...               ...           ...   \n",
      "4333             NaN                 NaN               NaN           NaN   \n",
      "4334             NaN                 NaN               NaN           NaN   \n",
      "4335            4.80               243.0            1005.6          23.7   \n",
      "4336            5.66               260.0            1006.0           NaN   \n",
      "4337            4.30               275.0            1003.9          23.1   \n",
      "\n",
      "      apparent_temperature  shortwave_radiation  et0_fao_evapotranspiration  \n",
      "0                    31.50                  0.0                        0.03  \n",
      "1                    30.90                  0.0                        0.02  \n",
      "2                    30.30                  0.0                        0.02  \n",
      "3                    30.50                  0.0                        0.00  \n",
      "4                    30.60                  0.0                        0.00  \n",
      "...                    ...                  ...                         ...  \n",
      "4333                   NaN                  NaN                         NaN  \n",
      "4334                   NaN                  NaN                         NaN  \n",
      "4335                 32.50                  0.0                        0.00  \n",
      "4336                 40.86                  0.0                        0.00  \n",
      "4337                 31.10                  0.0                        0.00  \n",
      "\n",
      "[4338 rows x 20 columns]\n"
     ]
    }
   ],
   "source": [
    "print(df)"
   ]
  },
  {
   "cell_type": "code",
   "execution_count": null,
   "id": "230b76c3",
   "metadata": {},
   "outputs": [],
   "source": []
  }
 ],
 "metadata": {
  "kernelspec": {
   "display_name": "Python 3",
   "language": "python",
   "name": "python3"
  },
  "language_info": {
   "codemirror_mode": {
    "name": "ipython",
    "version": 3
   },
   "file_extension": ".py",
   "mimetype": "text/x-python",
   "name": "python",
   "nbconvert_exporter": "python",
   "pygments_lexer": "ipython3",
   "version": "3.11.5"
  }
 },
 "nbformat": 4,
 "nbformat_minor": 5
}
