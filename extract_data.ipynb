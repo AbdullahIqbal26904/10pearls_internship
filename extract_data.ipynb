{
 "cells": [
  {
   "cell_type": "code",
   "execution_count": 2,
   "id": "65a982a2",
   "metadata": {},
   "outputs": [
    {
     "name": "stdout",
     "output_type": "stream",
     "text": [
      "✅ Uploaded ./historical_aqi_weather_data.json to s3://my-feature-store-data/raw-data/historical_aqi_weather_data.json\n"
     ]
    }
   ],
   "source": [
    "import boto3\n",
    "from dotenv import load_dotenv\n",
    "import os\n",
    "# Load environment variables from .env file\n",
    "load_dotenv()\n",
    "# Replace these values\n",
    "bucket_name = \"my-feature-store-data\"\n",
    "file_path = \"./historical_aqi_weather_data.json\"\n",
    "s3_key = \"raw-data/historical_aqi_weather_data.json\"\n",
    "\n",
    "\n",
    "# Initialize the S3 client\n",
    "s3 = boto3.client(\n",
    "    's3',\n",
    "    aws_access_key_id= os.environ.get('AWS_ACCESS_KEY_ID'),\n",
    "    aws_secret_access_key=os.environ.get('AWS_SECRET_ACCESS_KEY'),\n",
    ")\n",
    "# download the json file\n",
    "s3.download_file(bucket_name, s3_key, file_path)\n",
    "\n",
    "print(f\"✅ Uploaded {file_path} to s3://{bucket_name}/{s3_key}\")\n"
   ]
  },
  {
   "cell_type": "code",
   "execution_count": 3,
   "id": "983d9f0c",
   "metadata": {},
   "outputs": [],
   "source": [
    "import json\n",
    "import pandas as pd\n",
    "\n",
    "# Load JSON file\n",
    "with open('./historical_aqi_weather_data.json', 'r') as f:\n",
    "    data = json.load(f)\n",
    "\n",
    "records = []\n",
    "\n",
    "for item in data:\n",
    "    weather_data = item['weather']\n",
    "    aqi_info = item['aqi']\n",
    "    aqi_list = aqi_info['list']\n",
    "\n",
    "    if aqi_list:  # AQI data is available\n",
    "        aqi_data = aqi_list[0]\n",
    "        components = aqi_data['components']\n",
    "        record = {\n",
    "            'aqi_index': aqi_data['main']['aqi'],\n",
    "            'aqi_timestamp': aqi_data['dt'],\n",
    "            'co': components['co'],\n",
    "            'no': components['no'],\n",
    "            'no2': components['no2'],\n",
    "            'o3': components['o3'],\n",
    "            'so2': components['so2'],\n",
    "            'pm2_5': components['pm2_5'],\n",
    "            'pm10': components['pm10'],\n",
    "            'nh3': components['nh3']\n",
    "        }\n",
    "    else:  # AQI data is missing\n",
    "        record = {\n",
    "            'aqi_index': None,\n",
    "            'aqi_timestamp': None,\n",
    "            'co': None,\n",
    "            'no': None,\n",
    "            'no2': None,\n",
    "            'o3': None,\n",
    "            'so2': None,\n",
    "            'pm2_5': None,\n",
    "            'pm10': None,\n",
    "            'nh3': None,\n",
    "        }\n",
    "\n",
    "    # Add weather data\n",
    "    record.update({\n",
    "        'temperature_2m': weather_data['temperature_2m'],\n",
    "        'relative_humidity_2m': weather_data['relative_humidity_2m'],\n",
    "        'precipitation': weather_data['precipitation'],\n",
    "        'wind_speed_10m': weather_data['wind_speed_10m'],\n",
    "        'wind_direction_10m': weather_data['wind_direction_10m'],\n",
    "        'surface_pressure': weather_data['surface_pressure'],\n",
    "        'dew_point_2m': weather_data['dew_point_2m'],\n",
    "        'apparent_temperature': weather_data['apparent_temperature'],\n",
    "        'shortwave_radiation': weather_data['shortwave_radiation'],\n",
    "        'et0_fao_evapotranspiration': weather_data['et0_fao_evapotranspiration'],\n",
    "    })\n",
    "\n",
    "    records.append(record)\n",
    "\n",
    "# Convert to DataFrame\n",
    "df = pd.DataFrame(records)\n",
    "\n",
    "\n"
   ]
  },
  {
   "cell_type": "code",
   "execution_count": 4,
   "id": "acd7f75f",
   "metadata": {},
   "outputs": [
    {
     "name": "stdout",
     "output_type": "stream",
     "text": [
      "     year  month   day  hour\n",
      "0  2024.0   10.0  22.0  19.0\n",
      "1  2024.0   10.0  22.0  20.0\n",
      "2  2024.0   10.0  22.0  21.0\n",
      "3  2024.0   10.0  22.0  22.0\n",
      "4  2024.0   10.0  22.0  23.0\n",
      "   aqi_index       co    no    no2     o3    so2  pm2_5    pm10    nh3  \\\n",
      "0        4.0  1201.63  0.01  45.24  41.13   8.82  68.43  112.67  11.78   \n",
      "1        4.0  1388.55  0.05  57.58  26.46   8.94  71.22  113.28  10.39   \n",
      "2        5.0  1468.66  0.06  58.26  21.99  10.01  76.47  117.74  10.64   \n",
      "3        5.0  1375.20  0.01  48.67  26.82  10.73  79.89  121.13  11.02   \n",
      "4        4.0  1001.36  0.00  30.85  43.99   8.82  72.51  111.48   8.87   \n",
      "\n",
      "   temperature_2m  ...  wind_direction_10m  surface_pressure  dew_point_2m  \\\n",
      "0            27.3  ...               314.0            1011.3          23.8   \n",
      "1            26.8  ...               307.0            1011.2          24.0   \n",
      "2            26.2  ...               323.0            1011.0          24.4   \n",
      "3            26.0  ...               331.0            1010.9          24.9   \n",
      "4            26.0  ...               322.0            1011.0          24.9   \n",
      "\n",
      "   apparent_temperature  shortwave_radiation  et0_fao_evapotranspiration  \\\n",
      "0                  31.5                  0.0                        0.03   \n",
      "1                  30.9                  0.0                        0.02   \n",
      "2                  30.3                  0.0                        0.02   \n",
      "3                  30.5                  0.0                        0.00   \n",
      "4                  30.6                  0.0                        0.00   \n",
      "\n",
      "     year  month   day  hour  \n",
      "0  2024.0   10.0  22.0  19.0  \n",
      "1  2024.0   10.0  22.0  20.0  \n",
      "2  2024.0   10.0  22.0  21.0  \n",
      "3  2024.0   10.0  22.0  22.0  \n",
      "4  2024.0   10.0  22.0  23.0  \n",
      "\n",
      "[5 rows x 23 columns]\n"
     ]
    }
   ],
   "source": [
    "import datetime\n",
    "# Convert 'aqi_timestamp' to datetime and extract individual components\n",
    "df['year'] = df['aqi_timestamp'].apply(lambda x: datetime.datetime.utcfromtimestamp(x).year if pd.notna(x) else None)\n",
    "df['month'] = df['aqi_timestamp'].apply(lambda x: datetime.datetime.utcfromtimestamp(x).month if pd.notna(x) else None)\n",
    "df['day'] = df['aqi_timestamp'].apply(lambda x: datetime.datetime.utcfromtimestamp(x).day if pd.notna(x) else None)\n",
    "df['hour'] = df['aqi_timestamp'].apply(lambda x: datetime.datetime.utcfromtimestamp(x).hour if pd.notna(x) else None)\n",
    "\n",
    "# Print the result\n",
    "print(df[['year', 'month', 'day', 'hour']].head())\n",
    "# Print the result\n",
    "\n",
    "df.drop(columns=['aqi_timestamp'], inplace=True)\n",
    "print(df.head())\n"
   ]
  },
  {
   "cell_type": "code",
   "execution_count": 5,
   "id": "6e6e24f4",
   "metadata": {},
   "outputs": [
    {
     "name": "stdout",
     "output_type": "stream",
     "text": [
      "CSV file created: aqi_weather_data.csv\n"
     ]
    }
   ],
   "source": [
    "# Save to CSV\n",
    "df.to_csv('aqi_weather_data.csv', index=False)\n",
    "print(\"CSV file created: aqi_weather_data.csv\")"
   ]
  },
  {
   "cell_type": "code",
   "execution_count": 6,
   "id": "d9ff493b",
   "metadata": {},
   "outputs": [
    {
     "name": "stdout",
     "output_type": "stream",
     "text": [
      "      aqi_index       co    no    no2     o3    so2  pm2_5    pm10    nh3  \\\n",
      "0           4.0  1201.63  0.01  45.24  41.13   8.82  68.43  112.67  11.78   \n",
      "1           4.0  1388.55  0.05  57.58  26.46   8.94  71.22  113.28  10.39   \n",
      "2           5.0  1468.66  0.06  58.26  21.99  10.01  76.47  117.74  10.64   \n",
      "3           5.0  1375.20  0.01  48.67  26.82  10.73  79.89  121.13  11.02   \n",
      "4           4.0  1001.36  0.00  30.85  43.99   8.82  72.51  111.48   8.87   \n",
      "...         ...      ...   ...    ...    ...    ...    ...     ...    ...   \n",
      "4336        4.0   113.63  0.01   0.05  72.76   0.43  44.26  161.20   0.00   \n",
      "4337        4.0   113.63  0.01   0.05  72.76   0.43  44.26  161.20   0.00   \n",
      "4338        4.0   113.97  0.01   0.07  68.93   0.48  44.69  162.71   0.00   \n",
      "4339        4.0   109.04  0.01   0.06  67.06   0.27  44.82  155.90   0.00   \n",
      "4340        3.0   105.50  0.00   0.08  58.63   0.39  18.45   58.66   0.00   \n",
      "\n",
      "      temperature_2m  ...  wind_direction_10m  surface_pressure  dew_point_2m  \\\n",
      "0              27.30  ...               314.0            1011.3          23.8   \n",
      "1              26.80  ...               307.0            1011.2          24.0   \n",
      "2              26.20  ...               323.0            1011.0          24.4   \n",
      "3              26.00  ...               331.0            1010.9          24.9   \n",
      "4              26.00  ...               322.0            1011.0          24.9   \n",
      "...              ...  ...                 ...               ...           ...   \n",
      "4336           40.09  ...               260.0            1006.0           NaN   \n",
      "4337           26.20  ...               275.0            1003.9          23.1   \n",
      "4338           26.20  ...               275.0            1003.9          23.1   \n",
      "4339           34.80  ...               247.0            1004.6          23.1   \n",
      "4340           27.90  ...               249.0            1004.9          25.2   \n",
      "\n",
      "      apparent_temperature  shortwave_radiation  et0_fao_evapotranspiration  \\\n",
      "0                    31.50                  0.0                        0.03   \n",
      "1                    30.90                  0.0                        0.02   \n",
      "2                    30.30                  0.0                        0.02   \n",
      "3                    30.50                  0.0                        0.00   \n",
      "4                    30.60                  0.0                        0.00   \n",
      "...                    ...                  ...                         ...   \n",
      "4336                 40.86                  0.0                        0.00   \n",
      "4337                 31.10                  0.0                        0.00   \n",
      "4338                 31.10                  0.0                        0.00   \n",
      "4339                 38.80                847.0                        0.72   \n",
      "4340                 33.60                  0.0                        0.01   \n",
      "\n",
      "        year  month   day  hour  \n",
      "0     2024.0   10.0  22.0  19.0  \n",
      "1     2024.0   10.0  22.0  20.0  \n",
      "2     2024.0   10.0  22.0  21.0  \n",
      "3     2024.0   10.0  22.0  22.0  \n",
      "4     2024.0   10.0  22.0  23.0  \n",
      "...      ...    ...   ...   ...  \n",
      "4336  2025.0    4.0  26.0   7.0  \n",
      "4337  2025.0    4.0  26.0   7.0  \n",
      "4338  2025.0    4.0  26.0  11.0  \n",
      "4339  2025.0    4.0  27.0  10.0  \n",
      "4340  2025.0    5.0   2.0  18.0  \n",
      "\n",
      "[4341 rows x 23 columns]\n"
     ]
    }
   ],
   "source": [
    "print(df)"
   ]
  },
  {
   "cell_type": "code",
   "execution_count": 7,
   "id": "230b76c3",
   "metadata": {},
   "outputs": [
    {
     "name": "stdout",
     "output_type": "stream",
     "text": [
      "✅ Uploaded ./aqi_weather_data.csv to s3://my-feature-store-data/raw-data/aqi_weather_data.csv\n"
     ]
    }
   ],
   "source": [
    "import boto3\n",
    "from dotenv import load_dotenv\n",
    "import os\n",
    "# Load environment variables from .env file\n",
    "load_dotenv()\n",
    "# Replace these values\n",
    "bucket_name = \"my-feature-store-data\"\n",
    "file_path = \"./aqi_weather_data.csv\"\n",
    "s3_key = \"raw-data/aqi_weather_data.csv\"\n",
    "\n",
    "\n",
    "# Initialize the S3 client\n",
    "s3 = boto3.client(\n",
    "    's3',\n",
    "    aws_access_key_id= os.environ.get('AWS_ACCESS_KEY_ID'),\n",
    "    aws_secret_access_key=os.environ.get('AWS_SECRET_ACCESS_KEY'),\n",
    ")\n",
    "# upload the csv file\n",
    "s3.upload_file(file_path, bucket_name, s3_key)\n",
    "\n",
    "print(f\"✅ Uploaded {file_path} to s3://{bucket_name}/{s3_key}\")\n"
   ]
  }
 ],
 "metadata": {
  "kernelspec": {
   "display_name": "Python 3",
   "language": "python",
   "name": "python3"
  },
  "language_info": {
   "codemirror_mode": {
    "name": "ipython",
    "version": 3
   },
   "file_extension": ".py",
   "mimetype": "text/x-python",
   "name": "python",
   "nbconvert_exporter": "python",
   "pygments_lexer": "ipython3",
   "version": "3.11.5"
  }
 },
 "nbformat": 4,
 "nbformat_minor": 5
}
