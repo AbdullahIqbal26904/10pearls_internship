{
 "cells": [
  {
   "cell_type": "code",
   "execution_count": 1,
   "id": "6bdfa10b",
   "metadata": {},
   "outputs": [
    {
     "name": "stdout",
     "output_type": "stream",
     "text": [
      "   aqi_index       co    no    no2     o3    so2  pm2_5    pm10    nh3  \\\n",
      "0        4.0  1201.63  0.01  45.24  41.13   8.82  68.43  112.67  11.78   \n",
      "1        4.0  1388.55  0.05  57.58  26.46   8.94  71.22  113.28  10.39   \n",
      "2        5.0  1468.66  0.06  58.26  21.99  10.01  76.47  117.74  10.64   \n",
      "3        5.0  1375.20  0.01  48.67  26.82  10.73  79.89  121.13  11.02   \n",
      "4        4.0  1001.36  0.00  30.85  43.99   8.82  72.51  111.48   8.87   \n",
      "\n",
      "   temperature_2m  ...  wind_direction_10m  surface_pressure  dew_point_2m  \\\n",
      "0            27.3  ...               314.0            1011.3          23.8   \n",
      "1            26.8  ...               307.0            1011.2          24.0   \n",
      "2            26.2  ...               323.0            1011.0          24.4   \n",
      "3            26.0  ...               331.0            1010.9          24.9   \n",
      "4            26.0  ...               322.0            1011.0          24.9   \n",
      "\n",
      "   apparent_temperature  shortwave_radiation  et0_fao_evapotranspiration  \\\n",
      "0                  31.5                  0.0                        0.03   \n",
      "1                  30.9                  0.0                        0.02   \n",
      "2                  30.3                  0.0                        0.02   \n",
      "3                  30.5                  0.0                        0.00   \n",
      "4                  30.6                  0.0                        0.00   \n",
      "\n",
      "     year  month   day  hour  \n",
      "0  2024.0   10.0  22.0  19.0  \n",
      "1  2024.0   10.0  22.0  20.0  \n",
      "2  2024.0   10.0  22.0  21.0  \n",
      "3  2024.0   10.0  22.0  22.0  \n",
      "4  2024.0   10.0  22.0  23.0  \n",
      "\n",
      "[5 rows x 23 columns]\n"
     ]
    }
   ],
   "source": [
    "import pandas as pd\n",
    "\n",
    "df = pd.read_csv('aqi_weather_data.csv')\n",
    "\n",
    "print(df.head())"
   ]
  },
  {
   "cell_type": "code",
   "execution_count": 2,
   "id": "30641dfd",
   "metadata": {},
   "outputs": [
    {
     "name": "stdout",
     "output_type": "stream",
     "text": [
      "aqi_index                     216\n",
      "co                            216\n",
      "no                            216\n",
      "no2                           216\n",
      "o3                            216\n",
      "so2                           216\n",
      "pm2_5                         216\n",
      "pm10                          216\n",
      "nh3                           216\n",
      "temperature_2m                 40\n",
      "relative_humidity_2m           40\n",
      "precipitation                  40\n",
      "wind_speed_10m                 40\n",
      "wind_direction_10m             40\n",
      "surface_pressure               40\n",
      "dew_point_2m                   41\n",
      "apparent_temperature           40\n",
      "shortwave_radiation            40\n",
      "et0_fao_evapotranspiration     40\n",
      "year                          216\n",
      "month                         216\n",
      "day                           216\n",
      "hour                          216\n",
      "dtype: int64\n"
     ]
    }
   ],
   "source": [
    "print(df.isna().sum())"
   ]
  },
  {
   "cell_type": "code",
   "execution_count": 3,
   "id": "19277758",
   "metadata": {},
   "outputs": [],
   "source": [
    "df = pd.read_csv('./cleaned_aqi_weather_dataset.csv')"
   ]
  },
  {
   "cell_type": "code",
   "execution_count": 4,
   "id": "93424845",
   "metadata": {},
   "outputs": [
    {
     "name": "stdout",
     "output_type": "stream",
     "text": [
      "index                         0\n",
      "aqi_index                     0\n",
      "co                            0\n",
      "no                            0\n",
      "no2                           0\n",
      "o3                            0\n",
      "so2                           0\n",
      "pm2_5                         0\n",
      "pm10                          0\n",
      "nh3                           0\n",
      "temperature_2m                0\n",
      "relative_humidity_2m          0\n",
      "precipitation                 0\n",
      "wind_speed_10m                0\n",
      "wind_direction_10m            0\n",
      "surface_pressure              0\n",
      "dew_point_2m                  0\n",
      "apparent_temperature          0\n",
      "shortwave_radiation           0\n",
      "et0_fao_evapotranspiration    0\n",
      "year                          0\n",
      "month                         0\n",
      "day                           0\n",
      "hour                          0\n",
      "dtype: int64\n"
     ]
    }
   ],
   "source": [
    "print(df.isna().sum())"
   ]
  },
  {
   "cell_type": "code",
   "execution_count": 5,
   "id": "72049dcd",
   "metadata": {},
   "outputs": [
    {
     "name": "stdout",
     "output_type": "stream",
     "text": [
      "      index  aqi_index      co    no   no2     o3   so2  pm2_5    pm10  nh3  \\\n",
      "4335   4335        4.0  113.41  0.00  0.11  61.93  0.43  38.76  129.78  0.0   \n",
      "4336   4336        4.0  113.63  0.01  0.05  72.76  0.43  44.26  161.20  0.0   \n",
      "4337   4337        4.0  113.63  0.01  0.05  72.76  0.43  44.26  161.20  0.0   \n",
      "4338   4338        4.0  113.97  0.01  0.07  68.93  0.48  44.69  162.71  0.0   \n",
      "4339   4339        4.0  109.04  0.01  0.06  67.06  0.27  44.82  155.90  0.0   \n",
      "\n",
      "      ...  wind_direction_10m  surface_pressure  dew_point_2m  \\\n",
      "4335  ...               243.0            1005.6          23.7   \n",
      "4336  ...               260.0            1006.0          23.4   \n",
      "4337  ...               275.0            1003.9          23.1   \n",
      "4338  ...               275.0            1003.9          23.1   \n",
      "4339  ...               247.0            1004.6          23.1   \n",
      "\n",
      "      apparent_temperature  shortwave_radiation  et0_fao_evapotranspiration  \\\n",
      "4335                 32.50                  0.0                        0.00   \n",
      "4336                 40.86                  0.0                        0.00   \n",
      "4337                 31.10                  0.0                        0.00   \n",
      "4338                 31.10                  0.0                        0.00   \n",
      "4339                 38.80                847.0                        0.72   \n",
      "\n",
      "        year  month   day  hour  \n",
      "4335  2025.0    4.0  25.0  19.0  \n",
      "4336  2025.0    4.0  26.0   7.0  \n",
      "4337  2025.0    4.0  26.0   7.0  \n",
      "4338  2025.0    4.0  26.0  11.0  \n",
      "4339  2025.0    4.0  27.0  10.0  \n",
      "\n",
      "[5 rows x 24 columns]\n"
     ]
    }
   ],
   "source": [
    "print(df.tail())"
   ]
  },
  {
   "cell_type": "code",
   "execution_count": null,
   "id": "75822886",
   "metadata": {},
   "outputs": [],
   "source": []
  }
 ],
 "metadata": {
  "kernelspec": {
   "display_name": "Python 3",
   "language": "python",
   "name": "python3"
  },
  "language_info": {
   "codemirror_mode": {
    "name": "ipython",
    "version": 3
   },
   "file_extension": ".py",
   "mimetype": "text/x-python",
   "name": "python",
   "nbconvert_exporter": "python",
   "pygments_lexer": "ipython3",
   "version": "3.11.5"
  }
 },
 "nbformat": 4,
 "nbformat_minor": 5
}
